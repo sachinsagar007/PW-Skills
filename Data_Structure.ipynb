{
  "nbformat": 4,
  "nbformat_minor": 0,
  "metadata": {
    "colab": {
      "provenance": []
    },
    "kernelspec": {
      "name": "python3",
      "display_name": "Python 3"
    },
    "language_info": {
      "name": "python"
    }
  },
  "cells": [
    {
      "cell_type": "markdown",
      "source": [
        "Data Structure\n",
        "\n",
        "\n",
        "\n",
        "1. What are data structures, and why are they important?\n",
        "    - Data structures in Python are like container for organizing, managing, and storing data efficiently.\n",
        "\n",
        "      Below are the Data structures available in Python\n",
        "      Lists:\n",
        "      Example: my_list = [1, 2, 3, \"hello\"]\n",
        "\n",
        "      Tuples:\n",
        "      Example: my_tuple = (1, 2, 3, \"hello\")\n",
        "\n",
        "      Dictionaries:\n",
        "      Example: my_dict = {\"name\": \"Alice\", \"age\": 25}\n",
        "\n",
        "      Sets:\n",
        "      Example: my_set = {1, 2, 3}\n",
        "\n",
        "\n",
        "2. Explain the difference between mutable and immutable data types with examples.\n",
        "\n",
        "  Mutable Data Types\n",
        "  Mutable objects can be modified after their creation, meaning their contents or state can be changed.\n",
        "  \n",
        "  Examples of Mutable Data Types:\n",
        "\n",
        "  Lists:\n",
        "  my_list = [1, 2, 3]\n",
        "  my_list.append(4)  # Modifies the list\n",
        "  print(my_list)  # Output: [1, 2, 3, 4]\n",
        "\n",
        "  Dictionaries:\n",
        "  my_dict = {\"a\": 1, \"b\": 2}\n",
        "  my_dict[\"c\"] = 3  # Adds a new key-value pair\n",
        "  print(my_dict)  # Output: {'a': 1, 'b': 2, 'c': 3}\n",
        "\n",
        "  Sets:\n",
        "  my_set = {1, 2, 3}\n",
        "  my_set.add(4)  # Modifies the set\n",
        "  print(my_set)  # Output: {1, 2, 3, 4}\n",
        "\n",
        "  Immutable Data Types\n",
        "  Immutable objects cannot be modified after their creation.\n",
        "\n",
        "  Tuples:\n",
        "  my_tuple = (1, 2, 3)\n",
        "  # my_tuple[0] = 4  # Raises TypeError: 'tuple' object does not support item assignment\n",
        "\n",
        "  Strings:\n",
        "  my_string = \"hello\"\n",
        "  new_string = my_string.replace(\"h\", \"j\")  # Creates a new string\n",
        "  print(my_string)  # Output: \"hello\" (original string remains unchanged)\n",
        "  print(new_string)  # Output: \"jello\"\n",
        "  Numbers (int, float, complex):\n",
        "\n",
        "  Frozen Sets:\n",
        "  my_frozenset = frozenset([1, 2, 3])\n",
        "  # my_frozenset.add(4)  # Raises AttributeError: 'frozenset' object has no attribut\n",
        "\n",
        "  Feature\t           Mutable\t                        Immutable\n",
        "  Modifiability\t    Can be changed after creation\t    Cannot be changed   after  creation\n",
        "\n",
        "  Memory Address\t  Remains the same for updates\t    Creates a new object for updates\n",
        "\n",
        "  Examples\t        Lists, Dictionaries, Sets\t        Tuples, Strings\n",
        "\n",
        "\n",
        "3. What are the main differences between lists and tuples in Python?\n",
        "  -Lists and tuples are both used to store collections of data in Python, but they have several key differences:\n",
        "\n",
        "  a. Mutability\n",
        "  Lists: Mutable, meaning their elements can be changed, added, or removed after creation.\n",
        "\n",
        "  my_list = [1, 2, 3]\n",
        "  my_list[0] = 4\n",
        "  print(my_list)  # Output: [4, 2, 3]\n",
        "\n",
        "  Tuples: Immutable, meaning their elements cannot be changed, added, or removed after creation.\n",
        "  my_tuple = (1, 2, 3)\n",
        "  # my_tuple[0] = 4  # Raises TypeError: 'tuple' object does not support item assignment\n",
        "\n",
        "  b. Syntax\n",
        "  Lists: Created using square brackets [ ].\n",
        "  my_list = [1, 2, 3]\n",
        "\n",
        "  Tuples: Created using parentheses ( ).\n",
        "  my_tuple = (1, 2, 3)\n",
        "\n",
        "  c. Use Cases\n",
        "  Lists: Preferred when the collection needs to be modified or is expected to change over time.\n",
        "  Example: Managing a dynamic list of user inputs or items in a cart.\n",
        "\n",
        "  Tuples: Preferred for fixed collections of data that should not change.\n",
        "  Example: Storing constant configuration values or coordinates (latitude, longitude).\n",
        "\n",
        "  d. Methods\n",
        "  Lists: Have a larger set of built-in methods for modification (e.g., append(), pop(), remove(), etc.).\n",
        "\n",
        "  my_list = [1, 2, 3]\n",
        "  my_list.append(4)\n",
        "  print(my_list)  # Output: [1, 2, 3, 4]\n",
        "\n",
        "  Tuples: Have fewer methods, mainly for operations like counting elements or finding an index.\n",
        "  my_tuple = (1, 2, 3, 2)\n",
        "  print(my_tuple.count(2))  # Output: 2\n",
        "  print(my_tuple.index(3))  # Output: 2\n",
        "\n",
        "  e. Hashability\n",
        "  Lists: Not hashable, meaning they cannot be used as dictionary keys or set elements.\n",
        "  my_list = [1, 2, 3]\n",
        "  # my_dict = {my_list: \"value\"}  # Raises TypeError: unhashable type: 'list'\n",
        "\n",
        "  Tuples: Hashable (if they contain only hashable elements), so they can be used as dictionary keys or set elements.\n",
        "  my_tuple = (1, 2, 3)\n",
        "  my_dict = {my_tuple: \"value\"}\n",
        "  print(my_dict)  # Output: {(1, 2, 3): 'value'}\n",
        "\n",
        "\n",
        "  Feature\t        Lists\t            Tuples\n",
        "  Mutability\t    Mutable\t          Immutable\n",
        "  Syntax\t        [ ]\t                ( )\n",
        "  Performance\t    Slower\t          Faster\n",
        "  Methods\t        Extensive\t        Limited\n",
        "  Hashability\t    Not hashable\t    Hashable (if elements are hashable)\n",
        "  Preferred Use\t  Dynamic         \tStatic, fixed data\n",
        "\n",
        "\n",
        "4. Why might you use a set instead of a list in Python?\n",
        "\n",
        "  - a. Eliminate Duplicates\n",
        "      Sets automatically ensure all elements are unique, making them ideal for scenarios where duplicates are not allowed.\n",
        "      Example:\n",
        "      my_list = [1, 2, 2, 3, 4, 4]\n",
        "      my_set = set(my_list)\n",
        "      print(my_set)  # Output: {1, 2, 3, 4}\n",
        "\n",
        "     b. Fast Membership Testing\n",
        "      Checking if an element exists in a set is much faster than in a list because sets are implemented using hash tables.\n",
        "      my_list = [1, 2, 3, 4]\n",
        "      my_set = {1, 2, 3, 4}\n",
        "      print(3 in my_list)  # Time complexity: O(n)\n",
        "      print(3 in my_set)   # Time complexity: O(1)\n",
        "\n",
        "     c. Set Operations\n",
        "      Sets provide built-in support for mathematical set operations like union, intersection, difference, and symmetric difference, which can be very useful for certain tasks.\n",
        "      Example:\n",
        "      set_a = {1, 2, 3}\n",
        "      set_b = {3, 4, 5}\n",
        "      print(set_a | set_b)  # Union: {1, 2, 3, 4, 5}\n",
        "      print(set_a & set_b)  # Intersection: {3}\n",
        "      print(set_a - set_b)  # Difference: {1, 2}\n",
        "\n",
        "6. What is a string in Python, and how is it different from a list?\n",
        "  -A string in Python is a sequence of characters enclosed in quotes (single ' or double \" quotes). Strings are used to represent text and are one of the most commonly used data types in Python.\n",
        "\n",
        "  Characteristics of Strings\n",
        "  Immutable: Strings cannot be modified after creation. Any operation that appears to modify a string actually creates a new string.\n",
        "  my_string = \"hello\"\n",
        "  new_string = my_string.upper()  # Creates a new string\n",
        "  print(my_string)  # Output: \"hello\" (original string is unchanged)\n",
        "  print(new_string)  # Output: \"HELLO\"\n",
        "\n",
        "  Ordered: Strings are ordered sequences, so you can access individual characters or slices using indexing.\n",
        "  my_string = \"python\"\n",
        "  print(my_string[0])  # Output: 'p'\n",
        "  print(my_string[1:4])  # Output: 'yth'\n",
        "\n",
        "  Homogeneous: Strings consist only of characters, whereas lists can contain elements of different types.\n",
        "\n",
        "  Examples of Differences\n",
        "\n",
        "  Mutability:\n",
        "  Strings (immutable):\n",
        "  my_string = \"hello\"\n",
        "  # my_string[0] = 'H'  # Raises TypeError: 'str' object does not support item assignment\n",
        "  new_string = \"H\" + my_string[1:]  # Creates a new string\n",
        "  print(new_string)  # Output: \"Hello\"\n",
        "\n",
        "  Lists (mutable):\n",
        "  my_list = [1, 2, 3]\n",
        "  my_list[0] = 4  # Modifies the list in place\n",
        "  print(my_list)  # Output: [4, 2, 3]\n",
        "\n",
        "  Homogeneity:\n",
        "  Strings:\n",
        "  my_string = \"abc\"  # All elements are characters\n",
        "\n",
        "  Lists:\n",
        "  my_list = [1, \"abc\", 3.14]  # Elements can have mixed types\n",
        "\n",
        "\n",
        "7. How do tuples ensure data integrity in Python?\n",
        "\n",
        "  -Tuples ensure data integrity in Python primarily through their immutability, which means that once a tuple is created, its elements cannot be modified, added to, or removed. This immutability makes tuples a reliable choice for storing and handling data that should remain constant throughout the lifecycle of a program.\n",
        "\n",
        "  Key Ways Tuples Ensure Data Integrity\n",
        "  Immutability:\n",
        "  Once a tuple is created, its contents cannot be altered. This prevents accidental or intentional changes to data.\n",
        "  Example:\n",
        "  my_tuple = (1, 2, 3)\n",
        "  # my_tuple[0] = 4  # Raises TypeError: 'tuple' object does not support item assignment\n",
        "\n",
        "  Hashability:\n",
        "  Tuples are hashable (if all their elements are also hashable), meaning they can be used as keys in dictionaries or elements in sets. This ensures data integrity when tuples are used in contexts where uniqueness or consistent hashing is critical.\n",
        "  Example:\n",
        "  my_tuple = (1, 2, 3)\n",
        "  my_dict = {my_tuple: \"value\"}\n",
        "  print(my_dict)  # Output: {(1, 2, 3): 'value'}\n",
        "\n",
        "  Prevention of Side Effects:\n",
        "  Since tuples are immutable, they prevent side effects when passed to functions. This means a function cannot accidentally modify the original data, ensuring consistency and reliability.\n",
        "  Example:\n",
        "  def modify_tuple(t):\n",
        "      # t[0] = 99  # Raises TypeError\n",
        "      return t\n",
        "\n",
        "  my_tuple = (1, 2, 3)\n",
        "  result = modify_tuple(my_tuple)\n",
        "  print(my_tuple)  # Output: (1, 2, 3) (unchanged)\n",
        "\n",
        "  Suitability for Fixed Data:\n",
        "  Tuples are ideal for storing constant data that should not change, such as configuration settings, coordinates, or days of the week.\n",
        "  Example:\n",
        "  days_of_week = (\"Monday\", \"Tuesday\", \"Wednesday\", \"Thursday\", \"Friday\", \"Saturday\", \"Sunday\")\n",
        "  Protection in Nested Structures:\n",
        "\n",
        "  Tuples can act as containers for data that should remain unchanged even when nested within mutable structures like lists or dictionaries.\n",
        "  Example:\n",
        "  my_list = [(1, 2), (3, 4)]\n",
        "  # my_list[0][0] = 5  # Raises TypeError because the tuple is immutable\n",
        "  Readability and Predictability:\n",
        "\n",
        "  Tuples make it clear that the data is meant to remain constant, which improves code readability and reduces potential bugs related to unintended modifications.\n",
        "\n",
        "  Memory Efficiency:\n",
        "  Tuples generally consume less memory than lists because they do not have the overhead required for supporting dynamic resizing. This can indirectly contribute to data integrity by discouraging unnecessary modifications or additions.\n",
        "\n",
        "8. What is a hash table, and how does it relate to dictionaries in Python?\n",
        "  - A hash table is a data structure that allows for fast data retrieval by using a process called hashing. It maps keys to values using a hash function, which transforms the key into an index in an underlying array. This makes lookups, insertions, and deletions efficient.\n",
        "\n",
        "  In Python, dictionaries are implemented using hash tables. This implementation allows dictionaries to provide:\n",
        "\n",
        "  Efficient Lookups:\n",
        "  Retrieving a value by its key is typically an O(1) operation because the hash table can directly compute the index for the key.\n",
        "  \n",
        "  Unique Keys:\n",
        "  Each key in a dictionary must be unique and hashable (i.e., it must have a consistent hash value and be immutable, such as strings, numbers, or tuples).\n",
        "\n",
        "9. Can lists contain different data types in Python?\n",
        "  - Yes, lists in Python can contain elements of different data types. Python lists are highly flexible and can store any combination of data types, including integers, floats, strings, booleans, objects, and even other lists or complex data structures. This flexibility makes lists one of the most versatile and widely used data structures in Python.\n",
        "\n",
        "  Examples of Lists Containing Different Data Types\n",
        "  Mixed Data Types:\n",
        "  my_list = [1, \"hello\", 3.14, True]\n",
        "  print(my_list)  # Output: [1, 'hello', 3.14, True]\n",
        "\n",
        "  Nested Lists: Lists can contain other lists as elements, enabling the creation of nested structures.\n",
        "  nested_list = [1, [2, 3], \"text\", [4.5, True]]\n",
        "  print(nested_list)  # Output: [1, [2, 3], 'text', [4.5, True]]\n",
        "\n",
        "  Heterogeneous Data: Lists can combine various Python data types:\n",
        "  my_list = [1, \"apple\", 3.5, [1, 2], {\"key\": \"value\"}, (5, 6)]\n",
        "  print(my_list)  \n",
        "  # Output: [1, 'apple', 3.5, [1, 2], {'key': 'value'}, (5, 6)]\n",
        "\n",
        "\n",
        "10. Explain why strings are immutable in Python.\n",
        "      -Strings are immutable in Python, meaning that once a string is created, its content cannot be changed. If attempt to modify a string, Python creates a new string object rather than altering the original one.\n",
        "\n",
        "      When you modify a string (e.g., by concatenating or replacing characters), Python creates a new string object rather than modifying the original string:\n",
        "      original = \"hello\"\n",
        "      modified = original + \" world\"\n",
        "\n",
        "      print(original)  # Output: \"hello\" (unchanged)\n",
        "      print(modified)  # Output: \"hello world\" (new string object)\n",
        "      The original string remains unchanged, and the new string is stored in a different memory location.\n",
        "\n",
        "11. What advantages do dictionaries offer over lists for certain tasks?\n",
        "  - Dictionaries in Python offer several advantages over lists for specific tasks, particularly when dealing with key-value pairs and when fast lookups or updates are required.\n",
        "\n",
        "    Key-Based Access:\n",
        "\n",
        "      Dictionaries organize data using keys, making it easy to retrieve values without knowing their position.\n",
        "      Lists require numerical indexing or a linear search, which can be less intuitive or slower for large datasets.\n",
        "      Example:\n",
        "      # Using a dictionary\n",
        "      student_scores = {\"Alice\": 90, \"Bob\": 85}\n",
        "      print(student_scores[\"Alice\"])  # Output: 90\n",
        "\n",
        "      # Using a list (less efficient)\n",
        "      student_scores_list = [(\"Alice\", 90), (\"Bob\", 85)]\n",
        "      for student in student_scores_list:\n",
        "          if student[0] == \"Alice\":\n",
        "              print(student[1])  # Output: 90\n",
        "\n",
        "      Data Organization:\n",
        "      Dictionaries allow for natural grouping of related data, with meaningful keys representing the data.\n",
        "      Lists rely on positional indexing, which can be harder to read and maintain.\n",
        "      Example:\n",
        "      # Dictionary\n",
        "      employee = {\"name\": \"John\", \"age\": 30, \"department\": \"HR\"}\n",
        "\n",
        "      # List\n",
        "      employee = [\"John\", 30, \"HR\"]  # Harder to interpret without context\n",
        "\n",
        "\n",
        "12. Describe a scenario where using a tuple would be preferable over a list.\n",
        "  -Using a tuple is preferable over a list in scenarios where immutability and data integrity are important, or when the data represents a fixed structure that should not change. Since tuples are immutable, they prevent accidental modifications.\n",
        "\n",
        "  Example: Storing Coordinates\n",
        "  If you are working with a program that handles geographical coordinates (latitude and longitude), a tuple is a better choice than a list.\n",
        "\n",
        "  Why a Tuple?\n",
        "  Coordinates are inherently fixed values; they do not change.\n",
        "  Immutability ensures that accidental modifications to the coordinates are avoided. Tuples use less memory and are slightly faster than lists due to their immutability.\n",
        "  Code Example:\n",
        "  # Using a tuple for coordinates\n",
        "  coordinates = (40.7128, -74.0060)  # Latitude and Longitude for New York City\n",
        "  print(coordinates[0])  # Output: 40.7128\n",
        "  print(coordinates[1])  # Output: -74.0060\n",
        "\n",
        "  # Attempting to modify will raise an error\n",
        "  # coordinates[0] = 41.0000  # This will raise TypeError\n",
        "\n",
        "13. How do sets handle duplicate values in Python?\n",
        "  -In Python, sets automatically eliminate duplicate values. When you create a set or add elements to it, any duplicate values are ignored, ensuring that each element in the set is unique.\n",
        "  Removing Duplicates During Initialization:\n",
        "\n",
        "  If create a set with an iterable containing duplicate values, the set will only retain unique elements.\n",
        "  Example:\n",
        "  my_set = {1, 2, 3, 3, 4}\n",
        "  print(my_set)  # Output: {1, 2, 3, 4}\n",
        "\n",
        "  Ignoring Duplicates When Adding:\n",
        "  If you attempt to add an element to a set that is already present, the operation has no effect, and the set remains unchanged.\n",
        "  Example:\n",
        "  my_set = {1, 2, 3}\n",
        "  my_set.add(2)\n",
        "  print(my_set)  # Output: {1, 2, 3} (2 is not added again)\n",
        "\n",
        "14. How does the \"in\" keyword work differently for lists and dictionaries?\n",
        "  -The in keyword in Python is used to test for membership in collections like lists and dictionaries. While the functionality is similar, the way in operates differs depending on the type of collection.\n",
        "  Example:\n",
        "  The in keyword checks if a value exists as an element in the list.\n",
        "  my_list = [1, 2, 3, 4, 5]\n",
        "  print(3 in my_list)  # Output: True\n",
        "  print(6 in my_list)  # Output: False\n",
        "\n",
        "  When used with dictionaries, the in keyword checks for the presence of a key, not a value.\n",
        "  my_dict = {\"name\": \"Alice\", \"age\": 30, \"city\": \"New York\"}\n",
        "\n",
        "  # Check for keys\n",
        "  print(\"name\" in my_dict)  # Output: True\n",
        "  print(\"Alice\" in my_dict)  # Output: False (not a key)\n",
        "\n",
        "  # Check for values\n",
        "  print(\"Alice\" in my_dict.values())  # Output: True\n",
        "\n",
        "  # Check for key-value pairs\n",
        "  print((\"name\", \"Alice\") in my_dict.items())  # Output: True\n",
        "\n",
        "15. Can you modify the elements of a tuple? Explain why or why not.\n",
        "  -No, we cannot modify the elements of a tuple in Python. Tuples are immutable, meaning once they are created, their contents cannot be changed.\n",
        "  Example:\n",
        "  my_tuple = (1, 2, 3)\n",
        "  # Attempting to modify the element at index 0\n",
        "  my_tuple[0] = 10  # Raises TypeError: 'tuple' object does not support item assignment\n",
        "\n",
        "16. What is a nested dictionary, and give an example of its use case?\n",
        "  -A nested dictionary in Python is a dictionary where one or more values are themselves dictionaries. This allows you to create complex, hierarchical data structures. Nested dictionaries are useful when need to represent multi-level relationships between data or when organizing data in a structured way.\n",
        "\n",
        "  Syntax Example:\n",
        "    nested_dict = {\n",
        "        \"outer_key\": {\n",
        "            \"inner_key1\": \"value1\",\n",
        "            \"inner_key2\": \"value2\"\n",
        "        },\n",
        "        \"another_outer_key\": {\n",
        "            \"inner_key3\": \"value3\",\n",
        "            \"inner_key4\": \"value4\"\n",
        "        }\n",
        "    }\n",
        "\n",
        "  Example:\n",
        "  students = {\n",
        "      \"Alice\": {\n",
        "          \"age\": 20,\n",
        "          \"major\": \"Computer Science\",\n",
        "          \"grades\": {\n",
        "              \"math\": \"A\",\n",
        "              \"english\": \"B\",\n",
        "              \"history\": \"A\"\n",
        "          }\n",
        "      },\n",
        "      \"Bob\": {\n",
        "          \"age\": 22,\n",
        "          \"major\": \"Mathematics\",\n",
        "          \"grades\": {\n",
        "              \"math\": \"B\",\n",
        "              \"english\": \"A\",\n",
        "              \"history\": \"C\"\n",
        "          }\n",
        "      }\n",
        "  }\n",
        "\n",
        "  # Accessing Alice's age\n",
        "  print(students[\"Alice\"][\"age\"])  # Output: 20\n",
        "\n",
        "  # Accessing Bob's math grade\n",
        "  print(students[\"Bob\"][\"grades\"][\"math\"])  # Output: B\n",
        "\n",
        "17. Describe the time complexity of accessing elements in a dictionary.\n",
        "  -The time complexity of accessing elements in a dictionary in Python is generally O(1), meaning constant time. This is because Python dictionaries are implemented using a hash table, which provides very efficient access to elements.\n",
        "  Example: Accessing Elements in a Dictionary\n",
        "  Consider the following dictionary:\n",
        "  my_dict = {\"name\": \"Alice\", \"age\": 30, \"city\": \"New York\"}\n",
        "\n",
        "  # Accessing a value by key\n",
        "  print(my_dict[\"name\"])  # Output: Alice\n",
        "  In this example, my_dict[\"name\"] is an O(1) operation because the dictionary will hash the key \"name\" and immediately return the associated value \"Alice\".\n",
        "\n",
        "18. In what situations are lists preferred over dictionaries?\n",
        "  - Lists are more appropriate when needs an ordered collection of elements. Here are some situations where lists might be preferred over dictionaries:\n",
        "  When Need to Access Elements by Index\n",
        "  Lists are ideal when you need to access elements by index. Each element in a list has a specific index, making it easy to retrieve or modify values using their position.\n",
        "  Use Case Example:\n",
        "  If needs to frequently access items based on their position (like retrieving the nth element), a list is the most efficient option.\n",
        "  my_list = [\"apple\", \"banana\", \"cherry\"]\n",
        "  print(my_list[0])  # Output: apple (access by index)\n",
        "\n",
        "19.  Why are dictionaries considered unordered, and how does that affect data retrieval?\n",
        "    - Iterating Over a Dictionary:\n",
        "\n",
        "      In Python iterating over a dictionary would not guarantee that the items would come out in the same order as they were inserted.\n",
        "      Example:\n",
        "      my_dict = {\"a\": 1, \"b\": 2, \"c\": 3}\n",
        "      for key in my_dict:\n",
        "          print(key)\n",
        "      # Output order was unpredictable\n",
        "\n",
        "      Order-Dependent Tasks:\n",
        "      For tasks requiring a specific order (e.g., maintaining a sequence of events or steps), developers had to use other data structures like OrderedDict (from the collections module) or lists.\n",
        "\n",
        "20. Explain the difference between a list and a dictionary in terms of data retrieval.\n",
        "  -Retrieval Mechanism\n",
        "  Lists:\n",
        "  Data in a list is accessed by index.\n",
        "  Each element in the list is assigned a sequential index starting from 0, and you retrieve elements using this index.\n",
        "  Example:\n",
        "  my_list = [\"apple\", \"banana\", \"cherry\"]\n",
        "  print(my_list[1])  # Output: banana\n",
        "\n",
        "  Dictionaries:\n",
        "  Data in a dictionary is accessed by keys, which are unique identifiers for each value.\n",
        "  Keys are hashed, and their hash values are used to quickly locate the associated values.\n",
        "  Example:\n",
        "  my_dict = {\"fruit\": \"apple\", \"vegetable\": \"carrot\"}\n",
        "  print(my_dict[\"fruit\"])  # Output: apple"
      ],
      "metadata": {
        "id": "oCbKZGjHMJ_3"
      }
    },
    {
      "cell_type": "markdown",
      "source": [
        "# New Section"
      ],
      "metadata": {
        "id": "vuWbkzwEa9pB"
      }
    },
    {
      "cell_type": "code",
      "execution_count": null,
      "metadata": {
        "id": "dhJuFILEUlzZ"
      },
      "outputs": [],
      "source": [
        "#1.Write a code to create a string with your name and print it.\n",
        "name = \"Sachin Sagar T D\"\n",
        "print(\"My name is\",name)\n"
      ]
    },
    {
      "cell_type": "code",
      "source": [
        "#2. Write a code to find the length of the string \"Hello World\"\n",
        "String = \"Hello World\"\n",
        "print(\"Length of the string is \", len(String))\n"
      ],
      "metadata": {
        "id": "7XoN5w7A9iz9"
      },
      "execution_count": null,
      "outputs": []
    },
    {
      "cell_type": "code",
      "source": [
        "#3. Write a code to slice the first 3 characters from the string \"Python Programming\n",
        "string=\"Python Programming\"\n",
        "print(string[:3])\n"
      ],
      "metadata": {
        "id": "PKnCE3CD_CE1"
      },
      "execution_count": null,
      "outputs": []
    },
    {
      "cell_type": "code",
      "source": [
        "#4.Write a code to convert the string \"hello\" to uppercase.\n",
        "string=\"hello\"\n",
        "print(string.upper())\n"
      ],
      "metadata": {
        "id": "lY7GlH5Y_Mb6"
      },
      "execution_count": null,
      "outputs": []
    },
    {
      "cell_type": "code",
      "source": [
        "#5.Write a code to replace the word \"apple\" with \"orange\" in the string \"I like apple\".\n",
        "string=\"i like apple\"\n",
        "print(string.replace(\"apple\",\"orange\"))\n"
      ],
      "metadata": {
        "id": "5aDdzmkX_X8o"
      },
      "execution_count": null,
      "outputs": []
    },
    {
      "cell_type": "code",
      "source": [
        "#6.Write a code to create a list with numbers 1 to 5 and print it.\n",
        "num_list = [1,2,3,4,5]\n",
        "print(num_list)\n"
      ],
      "metadata": {
        "id": "gQPJYwA5_gRj"
      },
      "execution_count": null,
      "outputs": []
    },
    {
      "cell_type": "code",
      "source": [
        "#7. Write a code to append the number 10 to the list [1, 2, 3, 4].\n",
        "num_list = [1,2,3,4]\n",
        "num_list.append(10)\n",
        "print(num_list)\n",
        "\n"
      ],
      "metadata": {
        "id": "-XFsteGo_oCK"
      },
      "execution_count": null,
      "outputs": []
    },
    {
      "cell_type": "code",
      "source": [
        "#8.Write a code to remove the number 3 from the list [1, 2, 3, 4, 5].\n",
        "num_list = [1,2,3,4,5]\n",
        "print(\"The given list\", num_list)\n",
        "num_list.remove(3)\n",
        "print(\"The Num List after removing number 3\", num_list)\n"
      ],
      "metadata": {
        "id": "5SdatnDd_w3X"
      },
      "execution_count": null,
      "outputs": []
    },
    {
      "cell_type": "code",
      "source": [
        "#9. Write a code to access the second element in the list ['a', 'b', 'c', 'd'].\n",
        "given_string = ['a','b','c','d']\n",
        "print(given_string[1])\n"
      ],
      "metadata": {
        "id": "2MScqRe-_3ni"
      },
      "execution_count": null,
      "outputs": []
    },
    {
      "cell_type": "code",
      "source": [
        "#10 Write a code to reverse the list [10, 20, 30, 40, 50].\n",
        "in_list = [10, 20, 30, 40, 50]\n",
        "in_list.reverse()\n",
        "print(\"List After reversing\",in_list)\n"
      ],
      "metadata": {
        "id": "796el63p_-7Z"
      },
      "execution_count": null,
      "outputs": []
    },
    {
      "cell_type": "code",
      "source": [
        "#11. Write a code to create a tuple with the elements 10, 20, 30 and print it.\n",
        "in_tuple = (10,20,30)\n",
        "print(in_tuple)\n",
        "\n"
      ],
      "metadata": {
        "id": "MzB2jQABAFqW"
      },
      "execution_count": null,
      "outputs": []
    },
    {
      "cell_type": "code",
      "source": [
        "#12. Write a code to access the first element of the tuple ('apple', 'banana', 'cherry').\n",
        "fruits = (\"apple\",\"banana\",\"cherry\")\n",
        "print(\"First element of Tuple Fruits is\",fruits[0])\n"
      ],
      "metadata": {
        "id": "4xMpC90AAPu7"
      },
      "execution_count": null,
      "outputs": []
    },
    {
      "cell_type": "code",
      "source": [
        "#13. Write a code to count how many times the number 2 appears in the tuple (1, 2, 3, 2, 4, 2).\n",
        "numbers = (1,2,3,2,4,2)\n",
        "print(\"Count of Number 2 is = \" , numbers.count(2))\n"
      ],
      "metadata": {
        "id": "VGbsSvNXAYK6"
      },
      "execution_count": null,
      "outputs": []
    },
    {
      "cell_type": "code",
      "source": [
        "#14. Write a code to find the index of the element \"cat\" in the tuple ('dog, 'cat', 'rabbit').\n",
        "in_tuple = (\"dog\", \"cat\", \"rabbit\")\n",
        "print(\"The Index of Element Cat is\", in_tuple.index(\"cat\"))\n"
      ],
      "metadata": {
        "id": "MoHzN6ohAgCF"
      },
      "execution_count": null,
      "outputs": []
    },
    {
      "cell_type": "code",
      "source": [
        "#15. Write a code to check if the element \"banana\" is in the tuple ('apple', 'orange', 'banana').\n",
        "fruits = (\"apple\",\"orange\",\"banana\")\n",
        "if (\"banana\" in fruits):\n",
        "    print(\"banana is in Fruits tuple\")\n",
        ""
      ],
      "metadata": {
        "id": "rEcDpULhAn1V"
      },
      "execution_count": null,
      "outputs": []
    },
    {
      "cell_type": "code",
      "source": [
        "#16 Write a code to create a set with the elements 1, 2, 3, 4, 5 and print it.\n",
        "\n",
        "number_set = {1,2,3,4,5}\n",
        "print(\"The Given Set is\", number_set)\n"
      ],
      "metadata": {
        "id": "uwVJ3Zv6Aw4V"
      },
      "execution_count": null,
      "outputs": []
    },
    {
      "cell_type": "code",
      "source": [
        "#17. Write a code to add the element 6 to the set (1, 2, 3, 4).\n",
        "in_set = {1,2,3,4}\n",
        "print(\"Set before adding \", in_set)\n",
        "in_set.add(6)\n",
        "print(\"Set after adding Element 6 is\", in_set)\n"
      ],
      "metadata": {
        "id": "I1fD5RzYA4l_"
      },
      "execution_count": null,
      "outputs": []
    },
    {
      "cell_type": "code",
      "source": [
        "#18.Write a code to create a tuple with the elements 10, 20, 30 and print it.\n",
        "in_tuple = (10,20,30)\n",
        "print(in_tuple)\n"
      ],
      "metadata": {
        "id": "doiyvMS1BB1c"
      },
      "execution_count": null,
      "outputs": []
    },
    {
      "cell_type": "code",
      "source": [
        "#19. Write a code to access the first element of the tuple ('apple', 'banana', 'cherry').\n",
        "fruits = (\"apple\",\"banana\",\"cherry\")\n",
        "print(\"First element of Tuple Fruits is\",fruits[0])\n"
      ],
      "metadata": {
        "id": "YedTfPRPBSJO"
      },
      "execution_count": null,
      "outputs": []
    },
    {
      "cell_type": "code",
      "source": [
        "#20. Write a code to count how many times the number 2 appears in the tuple (1, 2, 3, 2, 4, 2).\n",
        "numbers = (1,2,3,2,4,2)\n",
        "print(\"Count of Number 2 is = \" , numbers.count(2))\n"
      ],
      "metadata": {
        "id": "QkxkeR43BZnf"
      },
      "execution_count": null,
      "outputs": []
    },
    {
      "cell_type": "code",
      "source": [
        "#21. Write a code to find the index of the element \"cat\" in the tuple ('dog, 'cat', 'rabbit').\n",
        "in_tuple = (\"dog\", \"cat\", \"rabbit\")\n",
        "print(\"The Index of Element Cat is\", in_tuple.index(\"cat\"))"
      ],
      "metadata": {
        "id": "vZ7h2g0jBc2X"
      },
      "execution_count": null,
      "outputs": []
    },
    {
      "cell_type": "code",
      "source": [
        "#22. Write a code to check if the element \"banana\" is in the tuple ('apple', 'orange', 'banana').\n",
        "fruits = (\"apple\",\"orange\",\"banana\")\n",
        "if (\"banana\" in fruits):\n",
        "    print(\"banana is in Fruits tuple\")"
      ],
      "metadata": {
        "id": "O7s3cZwQBbYr"
      },
      "execution_count": null,
      "outputs": []
    },
    {
      "cell_type": "code",
      "source": [
        "#23 Write a code to create a set with the elements 1, 2, 3, 4, 5 and print it.\n",
        "number_set = {1,2,3,4,5}\n",
        "print(\"The Given Set is\", number_set)\n"
      ],
      "metadata": {
        "id": "JvmR2jDgBggD"
      },
      "execution_count": null,
      "outputs": []
    },
    {
      "cell_type": "code",
      "source": [
        "#24. Write a code to add the element 6 to the set (1, 2, 3, 4).\n",
        "in_set = {1,2,3,4}\n",
        "print(\"Set before adding \", in_set)\n",
        "in_set.add(6)\n",
        "print(\"Set after adding Element 6 is\", in_set)\n"
      ],
      "metadata": {
        "id": "MBxTGFCwBogI"
      },
      "execution_count": null,
      "outputs": []
    }
  ]
}