{
  "nbformat": 4,
  "nbformat_minor": 0,
  "metadata": {
    "colab": {
      "provenance": []
    },
    "kernelspec": {
      "name": "python3",
      "display_name": "Python 3"
    },
    "language_info": {
      "name": "python"
    }
  },
  "cells": [
    {
      "cell_type": "markdown",
      "source": [
        "1. What is the difference between interpreted and compiled languages?\n",
        "\n",
        "  -Compiled Languages: The entire source code is translated into machine code before execution. Programs generally run faster as they are precompiled. Errors are detected during the compilation phase. Examples: C, C++, Java (compiles to bytecode).\n",
        "\n",
        "  Interpreted Languages: The source code is executed line by line at runtime. Generally slower than compiled languages as interpretation happens during execution. Errors are detected during runtime. Examples: Python, JavaScript, Ruby.\n",
        "\n",
        "2. What is exception handling in Python?\n",
        "  - Exception handling is a mechanism in Python to handle runtime errors (like division by zero, file not found, etc.) without stopping the execution of the program. It uses try, except, else, and finally blocks.\n",
        "\n",
        "Example:\n",
        "try:\n",
        "    x = 10 / 0\n",
        "except ZeroDivisionError:\n",
        "    print(\"Cannot divide by zero!\")\n",
        "Output:\n",
        "Cannot divide by zero!\n",
        "\n",
        "3. What is the purpose of the finally block in exception handling?\n",
        "  - The finally block is used to execute code regardless of whether an exception occurs or not. It is commonly used for resource cleanup (like closing files or network connections).\n",
        "\n",
        "Example:\n",
        "try:\n",
        "    file = open(\"example.txt\", \"r\")\n",
        "    data = file.read()\n",
        "except FileNotFoundError:\n",
        "    print(\"File not found!\")\n",
        "finally:\n",
        "    print(\"Closing the file.\")\n",
        "    file.close()\n",
        "Even if the file is not found, \"Closing the file.\" will still be printed.\n",
        "\n",
        "4. What is logging in Python?\n",
        "  - Logging is used to record messages about program execution, including errors, warnings, and informational messages. It is useful for debugging and monitoring.\n",
        "\n",
        "Example:\n",
        "import logging\n",
        "\n",
        "logging.basicConfig(level=logging.INFO)\n",
        "logging.info(\"This is an informational message\")\n",
        "logging.warning(\"This is a warning\")\n",
        "\n",
        "Output:\n",
        "INFO:root:This is an informational message\n",
        "WARNING:root:This is a warning\n",
        "\n",
        "5. What is the significance of the __del__ method in Python?\n",
        "  - The __del__ method is a destructor that is called when an object is deleted or goes out of scope. It is used to free resources like closing database connections.\n",
        "\n",
        "Example:\n",
        "class Demo:\n",
        "    def __del__(self):\n",
        "        print(\"Object is being deleted\")\n",
        "\n",
        "obj = Demo()\n",
        "del obj  # This triggers __del__()\n",
        "\n",
        "Output:\n",
        "Object is being deleted\n",
        "\n",
        "6. What is the difference between import and from... import in Python?\n",
        "  - import module_name: Imports the entire module (e.g., import math).\n",
        "from module_name import function_name: Imports specific functions from a module.\n",
        "\n",
        "Example:\n",
        "import math\n",
        "print(math.sqrt(16))  # Using full module reference\n",
        "\n",
        "from math import sqrt\n",
        "print(sqrt(16))  # Directly using function\n",
        "\n",
        "7. How can you handle multiple exceptions in Python?\n",
        "  - You can handle multiple exceptions using multiple except blocks or by grouping exceptions in a tuple.\n",
        "\n",
        "Example:\n",
        "try:\n",
        "    x = int(\"abc\")\n",
        "except (ValueError, TypeError):\n",
        "    print(\"Invalid operation!\")\n",
        "\n",
        "8. What is the purpose of the with statement when handling files in Python?\n",
        "  - The with statement ensures that the file is properly closed after it is used, preventing resource leaks.\n",
        "\n",
        "Example:\n",
        "with open(\"example.txt\", \"r\") as file:\n",
        "    data = file.read()\n",
        "# No need to explicitly close the file\n",
        "\n",
        "9. What is the difference between multithreading and multiprocessing?\n",
        "  - Multithreading: Multiple threads share the same memory space. Best for I/O-bound tasks.\n",
        "\n",
        "  Multiprocessing: Each process has its own memory space. Best for CPU-bound tasks.\n",
        "  \n",
        "  Example:\n",
        "  import threading\n",
        "  def print_numbers():\n",
        "    for i in range(5):\n",
        "        print(i)\n",
        "\n",
        "t1 = threading.Thread(target=print_numbers)\n",
        "t1.start()\n",
        "\n",
        "10. What are the advantages of using logging in a program?\n",
        "- a) Helps debug errors.\n",
        "  b)Tracks program execution.\n",
        "  c)Stores logs for analysis.\n",
        "  4)Can set different log levels (DEBUG, INFO, WARNING, ERROR).\n",
        "\n",
        "11. What is memory management in Python?\n",
        "  - Python uses automatic memory management, including: Reference Counting: Objects are deleted when their reference count reaches zero.\n",
        "Garbage Collection: Cleans up unused objects automatically.\n",
        "Dynamic Typing: Allocates memory dynamically for variables.\n",
        "\n",
        "Example (Garbage Collection):\n",
        "import gc\n",
        "gc.collect()  # Forces garbage collection\n",
        "\n",
        "12. What are the basic steps involved in exception handling in Python?\n",
        "  - Use try block – Contains the risky code.\n",
        "  Use except block – Handles the exception.\n",
        "  Optional else block – Runs if no exception occurs.\n",
        "  Optional finally block – Runs regardless of the outcome.\n",
        "\n",
        "13. Why is memory management important in Python?\n",
        "  - a) Prevents memory leaks.\n",
        "  b)Optimizes resource usage.\n",
        "  c) Improves performance and efficiency.\n",
        "\n",
        "14. What is the role of try and except in exception handling?\n",
        "try: Contains the code that might cause an exception.\n",
        "except: Catches and handles the exception.\n",
        "Example:\n",
        "try:\n",
        "    x = 10 / 0\n",
        "except ZeroDivisionError:\n",
        "    print(\"Cannot divide by zero!\")\n",
        "\n",
        "15. How does Python's garbage collection system work?\n",
        "  - Python uses automatic memory management with the help of:\n",
        "  Reference Counting: Objects are deleted when no references point to them.\n",
        "  Garbage Collection (GC): Python's gc module detects and removes circular references.\n",
        "\n",
        "Example (Manual GC Call):\n",
        "import gc\n",
        "class Example:\n",
        "    def __del__(self):\n",
        "        print(\"Object deleted\")\n",
        "\n",
        "obj = Example()\n",
        "del obj  # Triggers garbage collection\n",
        "gc.collect()  # Force garbage collection\n",
        "\n",
        "16. What is the purpose of the else block in exception handling?\n",
        "The else block executes only if no exception occurs in the try block.\n",
        "\n",
        "Example:\n",
        "try:\n",
        "    x = 10 / 2\n",
        "except ZeroDivisionError:\n",
        "    print(\"Cannot divide by zero\")\n",
        "else:\n",
        "    print(\"No errors, result:\", x)\n",
        "Output:\n",
        "No errors, result: 5.0\n",
        "\n",
        "17. What are the common logging levels in Python?\n",
        "  - Python’s logging module has the following levels (from lowest to highest severity):\n",
        "\n",
        "  DEBUG (10) – Detailed information for debugging.\n",
        "  INFO (20) – General system information.\n",
        "  WARNING (30) – Something unexpected but not an error.\n",
        "  ERROR (40) – A serious problem that prevents execution.\n",
        "  CRITICAL (50) – A critical failure that needs immediate attention.\n",
        "\n",
        "  Example:\n",
        "  import logging\n",
        "\n",
        "  logging.basicConfig(level=logging.DEBUG)\n",
        "  logging.debug(\"This is a debug message\")\n",
        "  logging.warning(\"This is a warning\")\n",
        "  logging.error(\"This is an error\")\n",
        "\n",
        "18. What is the difference between os.fork() and multiprocessing in Python?\n",
        "  - os.fork(): Creates a child process by duplicating the current process (Unix-based systems only).\n",
        "multiprocessing module: Works across platforms and creates independent processes with separate memory.\n",
        "Example (Multiprocessing):\n",
        "from multiprocessing import Process\n",
        "\n",
        "def worker():\n",
        "    print(\"New process running\")\n",
        "\n",
        "p = Process(target=worker)\n",
        "p.start()\n",
        "p.join()\n",
        "\n",
        "19. What is the importance of closing a file in Python?\n",
        "  - Prevents data corruption.\n",
        "  Releases system resources.\n",
        "  Ensures all buffered data is written.\n",
        "\n",
        "  Example:\n",
        "  file = open(\"example.txt\", \"w\")\n",
        "  file.write(\"Hello, World!\")\n",
        "  file.close()  # Important to prevent data loss\n",
        "  (Using with statement avoids this issue.)\n",
        "\n",
        "20. What is the difference between file.read() and file.readline() in Python?\n",
        "  - file.read(size): Reads the entire file or size bytes.\n",
        "  file.readline(): Reads only one line at a time.\n",
        "  Example:\n",
        "  with open(\"example.txt\", \"r\") as file:\n",
        "      print(file.read(5))  # Reads first 5 characters\n",
        "      print(file.readline())  # Reads the next line\n",
        "\n",
        "21. What is the logging module in Python used for?\n",
        "  - The logging module provides a way to track events in a program and store logs for debugging, monitoring, or auditing.\n",
        "\n",
        "  Example:\n",
        "  import logging\n",
        "\n",
        "  logging.basicConfig(filename=\"app.log\", level=logging.INFO)\n",
        "  logging.info(\"Application started\")\n",
        "\n",
        "22. What is the os module in Python used for in file handling?\n",
        "  - The os module provides functions for interacting with the operating system, including file handling.\n",
        "\n",
        "  Common Functions:\n",
        "\n",
        "  os.rename(\"old.txt\", \"new.txt\") – Rename a file.\n",
        "  os.remove(\"file.txt\") – Delete a file.\n",
        "  os.mkdir(\"new_folder\") – Create a directory.\n",
        "\n",
        "  Example:\n",
        "  import os\n",
        "\n",
        "  if not os.path.exists(\"test.txt\"):\n",
        "      with open(\"test.txt\", \"w\") as f:\n",
        "          f.write(\"Hello, World!\")\n",
        "  os.remove(\"test.txt\")  # Deletes the file\n",
        "\n",
        "23. What are the challenges associated with memory management in Python?\n",
        "  - Garbage Collection Overhead: Automatic GC can cause performance overhead.\n",
        "  Memory Leaks: Circular references may not be immediately cleaned.\n",
        "  High Memory Usage: Objects stay in memory until collected, leading to inefficiencies.\n",
        "  Global Interpreter Lock (GIL): Limits true parallel execution in multithreading.\n",
        "  Example (Circular Reference Issue):\n",
        "  import gc\n",
        "\n",
        "  class A:\n",
        "      def __init__(self):\n",
        "          self.ref = self\n",
        "\n",
        "  a = A()\n",
        "  del a\n",
        "  gc.collect()  # Needed to remove circular reference\n",
        "24. How do you raise an exception manually in Python?\n",
        "Use the raise statement.\n",
        "\n",
        "Example:\n",
        "age = -1\n",
        "if age < 0:\n",
        "    raise ValueError(\"Age cannot be negative\")\n",
        "Output:\n",
        "Traceback (most recent call last):\n",
        "  File \"<stdin>\", line 3, in <module>\n",
        "ValueError: Age cannot be negative\n",
        "\n",
        "25. Why is it important to use multithreading in certain applications?\n",
        "  - Improves Performance: Speeds up I/O-bound tasks.\n",
        "  Efficient Resource Utilization: Uses CPU efficiently for concurrent tasks.\n",
        "  Better User Experience: Avoids UI freezes in GUI applications.\n",
        "\n",
        "  Example:\n",
        "  import threading\n",
        "  def print_numbers():\n",
        "      for i in range(5):\n",
        "          print(i)\n",
        "\n",
        "  t1 = threading.Thread(target=print_numbers)\n",
        "  t1.start()\n",
        "  t1.join()\n",
        "\n",
        "\n",
        "\n"
      ],
      "metadata": {
        "id": "6i04IR0bbUC8"
      }
    },
    {
      "cell_type": "code",
      "source": [
        "#1. How can you open a file for writing in Python and write a string to it?\n",
        "#Use the open() function with \"w\" mode.\n",
        "\n",
        "with open(\"example.txt\", \"w\") as file:\n",
        "    file.write(\"Hello, World!\")\n",
        "(This will create or overwrite example.txt and write \"Hello, World!\" to it.)"
      ],
      "metadata": {
        "id": "dzWOMGlpimzv"
      },
      "execution_count": null,
      "outputs": []
    },
    {
      "cell_type": "code",
      "source": [
        "#2 Write a Python program to read the contents of a file and print each line.\n",
        "\n",
        "with open(\"example.txt\", \"r\") as file:\n",
        "    for line in file:\n",
        "        print(line.strip())  # strip() removes trailing newline characters"
      ],
      "metadata": {
        "id": "tayBp_Rbkk5z"
      },
      "execution_count": null,
      "outputs": []
    },
    {
      "cell_type": "code",
      "source": [
        "#3. How would you handle a case where the file doesn't exist while trying to open it for reading?\n",
        "#Use try-except to catch FileNotFoundError.\n",
        "\n",
        "Example:\n",
        "try:\n",
        "    with open(\"non_existent.txt\", \"r\") as file:\n",
        "        print(file.read())\n",
        "except FileNotFoundError:\n",
        "    print(\"File not found!\")"
      ],
      "metadata": {
        "id": "Gq7gU4egkqyG"
      },
      "execution_count": null,
      "outputs": []
    },
    {
      "cell_type": "code",
      "source": [
        "# 4. Write a Python script that reads from one file and writes its content to another file.\n",
        "\n",
        "with open(\"source.txt\", \"r\") as src, open(\"destination.txt\", \"w\") as dest:\n",
        "    dest.write(src.read())"
      ],
      "metadata": {
        "id": "A-ciuLA9k1xc"
      },
      "execution_count": null,
      "outputs": []
    },
    {
      "cell_type": "code",
      "source": [
        "#5. How would you catch and handle a division by zero error in Python?\n",
        "\n",
        "try:\n",
        "    result = 10 / 0\n",
        "except ZeroDivisionError:\n",
        "    print(\"Cannot divide by zero!\")"
      ],
      "metadata": {
        "id": "hAoE-GRPlGu_"
      },
      "execution_count": null,
      "outputs": []
    },
    {
      "cell_type": "code",
      "source": [
        "#6. Write a Python program that logs an error message to a log file when a division by zero exception occurs.\n",
        "\n",
        "import logging\n",
        "\n",
        "logging.basicConfig(filename=\"errors.log\", level=logging.ERROR)\n",
        "\n",
        "try:\n",
        "    result = 10 / 0\n",
        "except ZeroDivisionError as e:\n",
        "    logging.error(\"Error occurred: %s\", e)"
      ],
      "metadata": {
        "id": "KMGIU5Y8lMUf"
      },
      "execution_count": null,
      "outputs": []
    },
    {
      "cell_type": "code",
      "source": [
        "#7. How do you log information at different levels (INFO, ERROR, WARNING) in Python using the logging module?\n",
        "\n",
        "import logging\n",
        "\n",
        "logging.basicConfig(level=logging.DEBUG)\n",
        "\n",
        "logging.info(\"This is an info message\")\n",
        "logging.warning(\"This is a warning\")\n",
        "logging.error(\"This is an error\")"
      ],
      "metadata": {
        "id": "66NGPclHl0-q"
      },
      "execution_count": null,
      "outputs": []
    },
    {
      "cell_type": "code",
      "source": [
        "# 8. Write a program to handle a file opening error using exception handling.\n",
        "\n",
        "try:\n",
        "    with open(\"non_existing.txt\", \"r\") as file:\n",
        "        print(file.read())\n",
        "except FileNotFoundError:\n",
        "    print(\"Error: File does not exist!\")"
      ],
      "metadata": {
        "id": "1p-W3jc7l58N"
      },
      "execution_count": null,
      "outputs": []
    },
    {
      "cell_type": "code",
      "source": [
        "#9. How can you read a file line by line and store its content in a list in Python?\n",
        "\n",
        "with open(\"example.txt\", \"r\") as file:\n",
        "    lines = file.readlines()  # Returns a list of lines\n",
        "print(lines)"
      ],
      "metadata": {
        "id": "cMd3keanmGrU"
      },
      "execution_count": null,
      "outputs": []
    },
    {
      "cell_type": "code",
      "source": [
        "#10. How can you append data to an existing file in Python?\n",
        "\n",
        "with open(\"example.txt\", \"a\") as file:\n",
        "    file.write(\"\\nNew line added!\")"
      ],
      "metadata": {
        "id": "xuCOqY67mbte"
      },
      "execution_count": null,
      "outputs": []
    },
    {
      "cell_type": "code",
      "source": [
        "#11. Write a Python program that uses a try-except block to handle an error when attempting to access a dictionary key that doesn't exist.\n",
        "\n",
        "data = {\"name\": \"Alice\"}\n",
        "try:\n",
        "    print(data[\"age\"])\n",
        "except KeyError:\n",
        "    print(\"Key not found in dictionary!\")"
      ],
      "metadata": {
        "id": "WSyYKbi8mgpu"
      },
      "execution_count": null,
      "outputs": []
    },
    {
      "cell_type": "code",
      "source": [
        "#12. Write a program that demonstrates using multiple except blocks to handle different types of exceptions.\n",
        "\n",
        "try:\n",
        "    x = int(\"abc\")  # ValueError\n",
        "    y = 10 / 0  # ZeroDivisionError\n",
        "except ValueError:\n",
        "    print(\"Invalid value conversion!\")\n",
        "except ZeroDivisionError:\n",
        "    print(\"Cannot divide by zero!\")"
      ],
      "metadata": {
        "id": "fbHzWcWamlo8"
      },
      "execution_count": null,
      "outputs": []
    },
    {
      "cell_type": "code",
      "source": [
        "#13. How would you check if a file exists before attempting to read it in Python?\n",
        "python\n",
        "Copy\n",
        "Edit\n",
        "import os\n",
        "\n",
        "if os.path.exists(\"example.txt\"):\n",
        "    with open(\"example.txt\", \"r\") as file:\n",
        "        print(file.read())\n",
        "else:\n",
        "    print(\"File does not exist!\")"
      ],
      "metadata": {
        "id": "Rd2dIfN-mqJO"
      },
      "execution_count": null,
      "outputs": []
    },
    {
      "cell_type": "code",
      "source": [
        "#14. Write a program that uses the logging module to log both informational and error messages.\n",
        "\n",
        "import logging\n",
        "\n",
        "logging.basicConfig(filename=\"app.log\", level=logging.INFO)\n",
        "\n",
        "logging.info(\"This is an info message\")\n",
        "logging.error(\"An error has occurred\")"
      ],
      "metadata": {
        "id": "SB03ks8Xmt4N"
      },
      "execution_count": null,
      "outputs": []
    },
    {
      "cell_type": "code",
      "source": [
        "#15. Write a Python program that prints the content of a file and handles the case when the file is empty.\n",
        "\n",
        "with open(\"example.txt\", \"r\") as file:\n",
        "    content = file.read()\n",
        "    if content:\n",
        "        print(content)\n",
        "    else:\n",
        "        print(\"File is empty!\")"
      ],
      "metadata": {
        "id": "9oS-Rv_RmyiH"
      },
      "execution_count": null,
      "outputs": []
    },
    {
      "cell_type": "code",
      "source": [
        "#16. Demonstrate how to use memory profiling to check the memory usage of a small program.\n",
        "\n",
        "from memory_profiler import profile\n",
        "\n",
        "@profile\n",
        "def test_function():\n",
        "    lst = [i for i in range(100000)]\n",
        "    return lst\n",
        "\n",
        "test_function()"
      ],
      "metadata": {
        "colab": {
          "base_uri": "https://localhost:8080/",
          "height": 384
        },
        "id": "b8N5rhX_m6Zb",
        "outputId": "005ee766-810e-4c06-8fd4-64ce39a3f95e"
      },
      "execution_count": 2,
      "outputs": [
        {
          "output_type": "error",
          "ename": "ModuleNotFoundError",
          "evalue": "No module named 'memory_profiler'",
          "traceback": [
            "\u001b[0;31m---------------------------------------------------------------------------\u001b[0m",
            "\u001b[0;31mModuleNotFoundError\u001b[0m                       Traceback (most recent call last)",
            "\u001b[0;32m<ipython-input-2-2d7bbef673c9>\u001b[0m in \u001b[0;36m<cell line: 0>\u001b[0;34m()\u001b[0m\n\u001b[1;32m      1\u001b[0m \u001b[0;31m#16. Demonstrate how to use memory profiling to check the memory usage of a small program.\u001b[0m\u001b[0;34m\u001b[0m\u001b[0;34m\u001b[0m\u001b[0m\n\u001b[1;32m      2\u001b[0m \u001b[0;34m\u001b[0m\u001b[0m\n\u001b[0;32m----> 3\u001b[0;31m \u001b[0;32mfrom\u001b[0m \u001b[0mmemory_profiler\u001b[0m \u001b[0;32mimport\u001b[0m \u001b[0mprofile\u001b[0m\u001b[0;34m\u001b[0m\u001b[0;34m\u001b[0m\u001b[0m\n\u001b[0m\u001b[1;32m      4\u001b[0m \u001b[0;34m\u001b[0m\u001b[0m\n\u001b[1;32m      5\u001b[0m \u001b[0;31m#@profile\u001b[0m\u001b[0;34m\u001b[0m\u001b[0;34m\u001b[0m\u001b[0m\n",
            "\u001b[0;31mModuleNotFoundError\u001b[0m: No module named 'memory_profiler'",
            "",
            "\u001b[0;31m---------------------------------------------------------------------------\u001b[0;32m\nNOTE: If your import is failing due to a missing package, you can\nmanually install dependencies using either !pip or !apt.\n\nTo view examples of installing some common dependencies, click the\n\"Open Examples\" button below.\n\u001b[0;31m---------------------------------------------------------------------------\u001b[0m\n"
          ],
          "errorDetails": {
            "actions": [
              {
                "action": "open_url",
                "actionText": "Open Examples",
                "url": "/notebooks/snippets/importing_libraries.ipynb"
              }
            ]
          }
        }
      ]
    },
    {
      "cell_type": "code",
      "source": [
        "#17. Write a Python program to create and write a list of numbers to a file, one number per line.\n",
        "\n",
        "numbers = [1, 2, 3, 4, 5]\n",
        "\n",
        "with open(\"numbers.txt\", \"w\") as file:\n",
        "    for num in numbers:\n",
        "        file.write(f\"{num}\\n\")"
      ],
      "metadata": {
        "id": "T8ZAWnntniQ7"
      },
      "execution_count": null,
      "outputs": []
    },
    {
      "cell_type": "code",
      "source": [
        "#18. How would you implement a basic logging setup that logs to a file with rotation after 1MB?\n",
        "\n",
        "import logging\n",
        "from logging.handlers import RotatingFileHandler\n",
        "\n",
        "handler = RotatingFileHandler(\"app.log\", maxBytes=1_000_000, backupCount=5)\n",
        "logging.basicConfig(level=logging.INFO, handlers=[handler])\n",
        "\n",
        "logging.info(\"This is a log message\")"
      ],
      "metadata": {
        "id": "Z8KDI_GMnxtQ"
      },
      "execution_count": null,
      "outputs": []
    },
    {
      "cell_type": "code",
      "source": [
        "#19. Write a program that handles both IndexError and KeyError using a try-except block.\n",
        "\n",
        "data = {\"name\": \"Alice\"}\n",
        "lst = [1, 2, 3]\n",
        "\n",
        "try:\n",
        "    print(lst[5])  # IndexError\n",
        "    print(data[\"age\"])  # KeyError\n",
        "except IndexError:\n",
        "    print(\"List index out of range!\")\n",
        "except KeyError:\n",
        "    print(\"Key not found in dictionary!\")"
      ],
      "metadata": {
        "id": "2UM2egYWn9Oe"
      },
      "execution_count": null,
      "outputs": []
    },
    {
      "cell_type": "code",
      "source": [
        "#20. How would you open a file and read its contents using a context manager in Python?\n",
        "\n",
        "with open(\"example.txt\", \"r\") as file:\n",
        "    content = file.read()\n",
        "    print(content)"
      ],
      "metadata": {
        "id": "MS9x0B0MoHTR"
      },
      "execution_count": null,
      "outputs": []
    },
    {
      "cell_type": "code",
      "source": [
        "#21. Write a Python program that reads a file and prints the number of occurrences of a specific word.\n",
        "\n",
        "word_to_count = \"Python\"\n",
        "count = 0\n",
        "\n",
        "with open(\"example.txt\", \"r\") as file:\n",
        "    for line in file:\n",
        "        count += line.lower().count(word_to_count.lower())\n",
        "\n",
        "print(f\"Occurrences of '{word_to_count}': {count}\")"
      ],
      "metadata": {
        "id": "ivLHIxJYoLHx"
      },
      "execution_count": null,
      "outputs": []
    },
    {
      "cell_type": "code",
      "source": [
        "#22. How can you check if a file is empty before attempting to read its contents?\n",
        "\n",
        "import os\n",
        "\n",
        "if os.path.exists(\"example.txt\") and os.stat(\"example.txt\").st_size > 0:\n",
        "    with open(\"example.txt\", \"r\") as file:\n",
        "        print(file.read())\n",
        "else:\n",
        "    print(\"File is empty or does not exist!\")"
      ],
      "metadata": {
        "id": "O92ogFj4oPY8"
      },
      "execution_count": null,
      "outputs": []
    },
    {
      "cell_type": "code",
      "source": [
        "#23. Write a Python program that writes to a log file when an error occurs during file handling.\n",
        "\n",
        "import logging\n",
        "\n",
        "logging.basicConfig(filename=\"file_errors.log\", level=logging.ERROR)\n",
        "\n",
        "try:\n",
        "    with open(\"non_existing.txt\", \"r\") as file:\n",
        "        print(file.read())\n",
        "except FileNotFoundError as e:\n",
        "    logging.error(\"File error: %s\", e)"
      ],
      "metadata": {
        "id": "aKTrRPtsoU9H"
      },
      "execution_count": null,
      "outputs": []
    },
    {
      "cell_type": "code",
      "source": [],
      "metadata": {
        "id": "RA0516URoaXW"
      },
      "execution_count": null,
      "outputs": []
    }
  ]
}